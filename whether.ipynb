{
  "nbformat": 4,
  "nbformat_minor": 0,
  "metadata": {
    "colab": {
      "provenance": [],
      "toc_visible": true
    },
    "kernelspec": {
      "name": "python3",
      "display_name": "Python 3"
    }
  },
  "cells": [
    {
      "cell_type": "markdown",
      "metadata": {
        "id": "U0oCUGdSJ4zE"
      },
      "source": [
        "# 主成分分析による気象情報の解析"
      ]
    },
    {
      "cell_type": "markdown",
      "metadata": {
        "id": "qoqgCv9SJ8v-"
      },
      "source": [
        "## 特異値分解（SVD）\n"
      ]
    },
    {
      "cell_type": "markdown",
      "metadata": {
        "id": "GNckDxt1MZLT"
      },
      "source": [
        "SVDは、任意のデータ行列$\\boldsymbol X$は、分解すると$\\boldsymbol U$,$\\boldsymbol V$を直交行列、$\\boldsymbol S$を特異値$s_i$を対角成分とする対角行列とすると、\n",
        "\n",
        "$$\\boldsymbol X = \\boldsymbol U \\boldsymbol S \\boldsymbol V^T$$\n",
        "と書けることを表す。\n",
        "\n",
        "主成分分析では、固有値問題を解くことで次元圧縮を行ったが、SVDでは特異値を用いるという相違点がある。\n",
        "\n",
        "主成分分析とSVDの関連性として、データの分散をできるだけ維持することが重要となるため、分散行列$\\boldsymbol \\Sigma$を考えると、\n",
        "\n",
        "$$\\boldsymbol \\Sigma = \\frac{\\boldsymbol X^T \\boldsymbol X}{n-1} $$\n",
        "\n",
        "となる。ここで、$\\boldsymbol X^T \\boldsymbol X$について、SVDを用いると、\n",
        "\n",
        "$$\\boldsymbol X^T \\boldsymbol X = [\\boldsymbol U \\boldsymbol S \\boldsymbol V^T]^T[\\boldsymbol U \\boldsymbol S \\boldsymbol V^T]= \\boldsymbol V \\boldsymbol S^T \\boldsymbol U^T \\boldsymbol U \\boldsymbol S \\boldsymbol V^T$$\n",
        "\n",
        "とかける。ここで、$\\boldsymbol U$は直交行列、$\\boldsymbol S$は対角行列より、\n",
        "$$\\boldsymbol X^T \\boldsymbol X = \\boldsymbol V \\boldsymbol S^2\\boldsymbol V^T$$\n",
        "となる。よって、\n",
        "\n",
        "$$\\boldsymbol \\Sigma = \\frac{\\boldsymbol X^T \\boldsymbol X}{n-1} = \\frac{\\boldsymbol V \\boldsymbol S^2\\boldsymbol V^T}{n-1} $$\n",
        "\n",
        "となる。ここで、$\\boldsymbol \\Lambda$を固有値$λ_i$を対角成分とする対角行列として、主成分分析では\n",
        "\n",
        "$$\\boldsymbol \\Sigma  = \\boldsymbol V \\boldsymbol \\Lambda \\boldsymbol V^T$$\n",
        "\n",
        "とかけることと、$\\boldsymbol \\Lambda $と$\\boldsymbol S $が対角行列であることから、主成分分析による固有値$λ_i$とSVDの特異値$s_i$との間には\n",
        "\n",
        "$$λ_i = \\frac{s_i^2}{n-1}$$\n",
        "\n",
        "という関係が成り立つ。\n",
        "\n"
      ]
    },
    {
      "cell_type": "markdown",
      "metadata": {
        "id": "7vIHvBeWKWeP"
      },
      "source": [
        "## 主成分分析\n"
      ]
    },
    {
      "cell_type": "markdown",
      "metadata": {
        "id": "d7Y04XpOhqeS"
      },
      "source": [
        "気象庁が提供している過去の気象データ(https://www.data.jma.go.jp/gmd/risk/obsdl/)\n",
        "から、東京都の2020/2/6から1年間の最高気温、最低気温、降水量の合計、日照時間、平均風速、平均雲量のデータを用いた。"
      ]
    },
    {
      "cell_type": "code",
      "metadata": {
        "id": "hDK57b_SKYw0",
        "colab": {
          "base_uri": "https://localhost:8080/",
          "height": 450
        },
        "outputId": "dd5e8650-5bff-45da-93ee-3058837ccceb"
      },
      "source": [
        "import pandas as pd \n",
        "data= pd.read_csv('/content/whether.csv', encoding=\"shift-jis\")\n",
        "\n",
        "data['年月日'] = pd.to_datetime(data['年月日'])\n",
        "data = data.set_index('年月日')\n",
        "data"
      ],
      "execution_count": null,
      "outputs": [
        {
          "output_type": "execute_result",
          "data": {
            "text/html": [
              "<div>\n",
              "<style scoped>\n",
              "    .dataframe tbody tr th:only-of-type {\n",
              "        vertical-align: middle;\n",
              "    }\n",
              "\n",
              "    .dataframe tbody tr th {\n",
              "        vertical-align: top;\n",
              "    }\n",
              "\n",
              "    .dataframe thead th {\n",
              "        text-align: right;\n",
              "    }\n",
              "</style>\n",
              "<table border=\"1\" class=\"dataframe\">\n",
              "  <thead>\n",
              "    <tr style=\"text-align: right;\">\n",
              "      <th></th>\n",
              "      <th>最高気温(℃)</th>\n",
              "      <th>最低気温(℃)</th>\n",
              "      <th>降水量の合計(mm)</th>\n",
              "      <th>日照時間(時間)</th>\n",
              "      <th>平均風速(m/s)</th>\n",
              "      <th>平均雲量(10分比)</th>\n",
              "    </tr>\n",
              "    <tr>\n",
              "      <th>年月日</th>\n",
              "      <th></th>\n",
              "      <th></th>\n",
              "      <th></th>\n",
              "      <th></th>\n",
              "      <th></th>\n",
              "      <th></th>\n",
              "    </tr>\n",
              "  </thead>\n",
              "  <tbody>\n",
              "    <tr>\n",
              "      <th>2020-02-06</th>\n",
              "      <td>6.9</td>\n",
              "      <td>-0.4</td>\n",
              "      <td>0.0</td>\n",
              "      <td>9.4</td>\n",
              "      <td>4.9</td>\n",
              "      <td>2.5</td>\n",
              "    </tr>\n",
              "    <tr>\n",
              "      <th>2020-02-07</th>\n",
              "      <td>6.9</td>\n",
              "      <td>-2.1</td>\n",
              "      <td>0.0</td>\n",
              "      <td>8.4</td>\n",
              "      <td>2.0</td>\n",
              "      <td>7.3</td>\n",
              "    </tr>\n",
              "    <tr>\n",
              "      <th>2020-02-08</th>\n",
              "      <td>12.7</td>\n",
              "      <td>0.7</td>\n",
              "      <td>0.0</td>\n",
              "      <td>9.2</td>\n",
              "      <td>2.4</td>\n",
              "      <td>5.0</td>\n",
              "    </tr>\n",
              "    <tr>\n",
              "      <th>2020-02-09</th>\n",
              "      <td>8.3</td>\n",
              "      <td>1.2</td>\n",
              "      <td>0.0</td>\n",
              "      <td>9.7</td>\n",
              "      <td>4.0</td>\n",
              "      <td>0.0</td>\n",
              "    </tr>\n",
              "    <tr>\n",
              "      <th>2020-02-10</th>\n",
              "      <td>10.1</td>\n",
              "      <td>-0.2</td>\n",
              "      <td>0.0</td>\n",
              "      <td>7.3</td>\n",
              "      <td>2.2</td>\n",
              "      <td>2.8</td>\n",
              "    </tr>\n",
              "    <tr>\n",
              "      <th>...</th>\n",
              "      <td>...</td>\n",
              "      <td>...</td>\n",
              "      <td>...</td>\n",
              "      <td>...</td>\n",
              "      <td>...</td>\n",
              "      <td>...</td>\n",
              "    </tr>\n",
              "    <tr>\n",
              "      <th>2021-02-02</th>\n",
              "      <td>15.6</td>\n",
              "      <td>4.3</td>\n",
              "      <td>12.0</td>\n",
              "      <td>4.2</td>\n",
              "      <td>3.2</td>\n",
              "      <td>7.3</td>\n",
              "    </tr>\n",
              "    <tr>\n",
              "      <th>2021-02-03</th>\n",
              "      <td>11.8</td>\n",
              "      <td>1.0</td>\n",
              "      <td>0.0</td>\n",
              "      <td>9.0</td>\n",
              "      <td>2.0</td>\n",
              "      <td>1.3</td>\n",
              "    </tr>\n",
              "    <tr>\n",
              "      <th>2021-02-04</th>\n",
              "      <td>12.6</td>\n",
              "      <td>0.6</td>\n",
              "      <td>0.0</td>\n",
              "      <td>9.5</td>\n",
              "      <td>2.9</td>\n",
              "      <td>0.0</td>\n",
              "    </tr>\n",
              "    <tr>\n",
              "      <th>2021-02-05</th>\n",
              "      <td>12.4</td>\n",
              "      <td>1.9</td>\n",
              "      <td>0.0</td>\n",
              "      <td>8.9</td>\n",
              "      <td>2.4</td>\n",
              "      <td>4.0</td>\n",
              "    </tr>\n",
              "    <tr>\n",
              "      <th>2021-02-06</th>\n",
              "      <td>15.0</td>\n",
              "      <td>4.2</td>\n",
              "      <td>0.0</td>\n",
              "      <td>9.4</td>\n",
              "      <td>1.7</td>\n",
              "      <td>1.8</td>\n",
              "    </tr>\n",
              "  </tbody>\n",
              "</table>\n",
              "<p>367 rows × 6 columns</p>\n",
              "</div>"
            ],
            "text/plain": [
              "            最高気温(℃)  最低気温(℃)  降水量の合計(mm)  日照時間(時間)  平均風速(m/s)  平均雲量(10分比)\n",
              "年月日                                                                      \n",
              "2020-02-06      6.9     -0.4         0.0       9.4        4.9         2.5\n",
              "2020-02-07      6.9     -2.1         0.0       8.4        2.0         7.3\n",
              "2020-02-08     12.7      0.7         0.0       9.2        2.4         5.0\n",
              "2020-02-09      8.3      1.2         0.0       9.7        4.0         0.0\n",
              "2020-02-10     10.1     -0.2         0.0       7.3        2.2         2.8\n",
              "...             ...      ...         ...       ...        ...         ...\n",
              "2021-02-02     15.6      4.3        12.0       4.2        3.2         7.3\n",
              "2021-02-03     11.8      1.0         0.0       9.0        2.0         1.3\n",
              "2021-02-04     12.6      0.6         0.0       9.5        2.9         0.0\n",
              "2021-02-05     12.4      1.9         0.0       8.9        2.4         4.0\n",
              "2021-02-06     15.0      4.2         0.0       9.4        1.7         1.8\n",
              "\n",
              "[367 rows x 6 columns]"
            ]
          },
          "metadata": {
            "tags": []
          },
          "execution_count": 99
        }
      ]
    },
    {
      "cell_type": "code",
      "metadata": {
        "colab": {
          "base_uri": "https://localhost:8080/",
          "height": 450
        },
        "id": "tiKeVBWss2EU",
        "outputId": "75d971a5-881e-4224-ae0a-efa186e3bf58"
      },
      "source": [
        "data = data.iloc[:,:].apply(lambda x: (x-x.mean())/x.std(), axis=0)\n",
        "data = data.set_index(data.index.month)\n",
        "data"
      ],
      "execution_count": null,
      "outputs": [
        {
          "output_type": "execute_result",
          "data": {
            "text/html": [
              "<div>\n",
              "<style scoped>\n",
              "    .dataframe tbody tr th:only-of-type {\n",
              "        vertical-align: middle;\n",
              "    }\n",
              "\n",
              "    .dataframe tbody tr th {\n",
              "        vertical-align: top;\n",
              "    }\n",
              "\n",
              "    .dataframe thead th {\n",
              "        text-align: right;\n",
              "    }\n",
              "</style>\n",
              "<table border=\"1\" class=\"dataframe\">\n",
              "  <thead>\n",
              "    <tr style=\"text-align: right;\">\n",
              "      <th></th>\n",
              "      <th>最高気温(℃)</th>\n",
              "      <th>最低気温(℃)</th>\n",
              "      <th>降水量の合計(mm)</th>\n",
              "      <th>日照時間(時間)</th>\n",
              "      <th>平均風速(m/s)</th>\n",
              "      <th>平均雲量(10分比)</th>\n",
              "    </tr>\n",
              "    <tr>\n",
              "      <th>年月日</th>\n",
              "      <th></th>\n",
              "      <th></th>\n",
              "      <th></th>\n",
              "      <th></th>\n",
              "      <th></th>\n",
              "      <th></th>\n",
              "    </tr>\n",
              "  </thead>\n",
              "  <tbody>\n",
              "    <tr>\n",
              "      <th>2</th>\n",
              "      <td>-1.786349</td>\n",
              "      <td>-1.570616</td>\n",
              "      <td>-0.334427</td>\n",
              "      <td>0.998423</td>\n",
              "      <td>2.357789</td>\n",
              "      <td>-1.310479</td>\n",
              "    </tr>\n",
              "    <tr>\n",
              "      <th>2</th>\n",
              "      <td>-1.786349</td>\n",
              "      <td>-1.776078</td>\n",
              "      <td>-0.334427</td>\n",
              "      <td>0.756752</td>\n",
              "      <td>-0.820269</td>\n",
              "      <td>0.175929</td>\n",
              "    </tr>\n",
              "    <tr>\n",
              "      <th>2</th>\n",
              "      <td>-1.049359</td>\n",
              "      <td>-1.437671</td>\n",
              "      <td>-0.334427</td>\n",
              "      <td>0.950089</td>\n",
              "      <td>-0.381916</td>\n",
              "      <td>-0.536308</td>\n",
              "    </tr>\n",
              "    <tr>\n",
              "      <th>2</th>\n",
              "      <td>-1.608455</td>\n",
              "      <td>-1.377241</td>\n",
              "      <td>-0.334427</td>\n",
              "      <td>1.070924</td>\n",
              "      <td>1.371495</td>\n",
              "      <td>-2.084650</td>\n",
              "    </tr>\n",
              "    <tr>\n",
              "      <th>2</th>\n",
              "      <td>-1.379734</td>\n",
              "      <td>-1.546444</td>\n",
              "      <td>-0.334427</td>\n",
              "      <td>0.490914</td>\n",
              "      <td>-0.601093</td>\n",
              "      <td>-1.217578</td>\n",
              "    </tr>\n",
              "    <tr>\n",
              "      <th>...</th>\n",
              "      <td>...</td>\n",
              "      <td>...</td>\n",
              "      <td>...</td>\n",
              "      <td>...</td>\n",
              "      <td>...</td>\n",
              "      <td>...</td>\n",
              "    </tr>\n",
              "    <tr>\n",
              "      <th>2</th>\n",
              "      <td>-0.680865</td>\n",
              "      <td>-1.002576</td>\n",
              "      <td>0.640626</td>\n",
              "      <td>-0.258265</td>\n",
              "      <td>0.494789</td>\n",
              "      <td>0.175929</td>\n",
              "    </tr>\n",
              "    <tr>\n",
              "      <th>2</th>\n",
              "      <td>-1.163720</td>\n",
              "      <td>-1.401413</td>\n",
              "      <td>-0.334427</td>\n",
              "      <td>0.901755</td>\n",
              "      <td>-0.820269</td>\n",
              "      <td>-1.682081</td>\n",
              "    </tr>\n",
              "    <tr>\n",
              "      <th>2</th>\n",
              "      <td>-1.062066</td>\n",
              "      <td>-1.449757</td>\n",
              "      <td>-0.334427</td>\n",
              "      <td>1.022590</td>\n",
              "      <td>0.166025</td>\n",
              "      <td>-2.084650</td>\n",
              "    </tr>\n",
              "    <tr>\n",
              "      <th>2</th>\n",
              "      <td>-1.087480</td>\n",
              "      <td>-1.292639</td>\n",
              "      <td>-0.334427</td>\n",
              "      <td>0.877588</td>\n",
              "      <td>-0.381916</td>\n",
              "      <td>-0.845977</td>\n",
              "    </tr>\n",
              "    <tr>\n",
              "      <th>2</th>\n",
              "      <td>-0.757105</td>\n",
              "      <td>-1.014662</td>\n",
              "      <td>-0.334427</td>\n",
              "      <td>0.998423</td>\n",
              "      <td>-1.149034</td>\n",
              "      <td>-1.527247</td>\n",
              "    </tr>\n",
              "  </tbody>\n",
              "</table>\n",
              "<p>367 rows × 6 columns</p>\n",
              "</div>"
            ],
            "text/plain": [
              "      最高気温(℃)   最低気温(℃)  降水量の合計(mm)  日照時間(時間)  平均風速(m/s)  平均雲量(10分比)\n",
              "年月日                                                                 \n",
              "2   -1.786349 -1.570616   -0.334427  0.998423   2.357789   -1.310479\n",
              "2   -1.786349 -1.776078   -0.334427  0.756752  -0.820269    0.175929\n",
              "2   -1.049359 -1.437671   -0.334427  0.950089  -0.381916   -0.536308\n",
              "2   -1.608455 -1.377241   -0.334427  1.070924   1.371495   -2.084650\n",
              "2   -1.379734 -1.546444   -0.334427  0.490914  -0.601093   -1.217578\n",
              "..        ...       ...         ...       ...        ...         ...\n",
              "2   -0.680865 -1.002576    0.640626 -0.258265   0.494789    0.175929\n",
              "2   -1.163720 -1.401413   -0.334427  0.901755  -0.820269   -1.682081\n",
              "2   -1.062066 -1.449757   -0.334427  1.022590   0.166025   -2.084650\n",
              "2   -1.087480 -1.292639   -0.334427  0.877588  -0.381916   -0.845977\n",
              "2   -0.757105 -1.014662   -0.334427  0.998423  -1.149034   -1.527247\n",
              "\n",
              "[367 rows x 6 columns]"
            ]
          },
          "metadata": {
            "tags": []
          },
          "execution_count": 100
        }
      ]
    },
    {
      "cell_type": "code",
      "metadata": {
        "colab": {
          "base_uri": "https://localhost:8080/"
        },
        "id": "cCC1_xTqijbQ",
        "outputId": "7519320b-b421-42de-c967-ee901f4bf72b"
      },
      "source": [
        "import numpy as np\n",
        "features = data.astype('float64').values\n",
        "print(features)\n",
        "print(data.index)\n",
        "X = features\n",
        "Y = data.index"
      ],
      "execution_count": null,
      "outputs": [
        {
          "output_type": "stream",
          "text": [
            "[[-1.78634851 -1.57061634 -0.33442743  0.99842317  2.35778936 -1.31047897]\n",
            " [-1.78634851 -1.77607784 -0.33442743  0.75675234 -0.82026943  0.1759287 ]\n",
            " [-1.04935944 -1.43767066 -0.33442743  0.950089   -0.38191649 -0.53630831]\n",
            " ...\n",
            " [-1.06206614 -1.44975663 -0.33442743  1.02259025  0.16602468 -2.08464963]\n",
            " [-1.08747956 -1.29263902 -0.33442743  0.87758775 -0.38191649 -0.84597657]\n",
            " [-0.75710515 -1.01466169 -0.33442743  0.99842317 -1.14903413 -1.52724676]]\n",
            "Int64Index([2, 2, 2, 2, 2, 2, 2, 2, 2, 2,\n",
            "            ...\n",
            "            1, 1, 1, 1, 2, 2, 2, 2, 2, 2],\n",
            "           dtype='int64', name='年月日', length=367)\n"
          ],
          "name": "stdout"
        }
      ]
    },
    {
      "cell_type": "code",
      "metadata": {
        "colab": {
          "base_uri": "https://localhost:8080/"
        },
        "id": "J25b1p3olb_9",
        "outputId": "4cf6fa30-ade9-4163-f4d1-4337cb7cf676"
      },
      "source": [
        "from sklearn.decomposition import PCA\n",
        "pca = PCA(n_components = 6)\n",
        "P = pca.fit_transform(X)\n",
        "\n",
        "#第一主成分と第二主成分のベクトル\n",
        "print(\"第1主成分:\", pca.components_[0])\n",
        "print(\"第2主成分:\", pca.components_[1])"
      ],
      "execution_count": null,
      "outputs": [
        {
          "output_type": "stream",
          "text": [
            "第1主成分: [-0.4364819  -0.54409969 -0.24686737  0.40543451 -0.10192199 -0.52700127]\n",
            "第2主成分: [-0.51648529 -0.37059823  0.31846227 -0.51977581 -0.34213152  0.32750697]\n"
          ],
          "name": "stdout"
        }
      ]
    },
    {
      "cell_type": "code",
      "metadata": {
        "colab": {
          "base_uri": "https://localhost:8080/",
          "height": 570
        },
        "id": "3Dcjsn-Ll_V5",
        "outputId": "5f67ccdd-973f-4faf-e07f-0f8451830ed8"
      },
      "source": [
        "import matplotlib.pyplot as plt\n",
        "plt.figure(dpi=150)\n",
        "\n",
        "m = plt.scatter(P[:, 0], P[:, 1], c=data.index, marker='.', cmap='gist_rainbow')\n",
        "plt.xlabel('PC1')\n",
        "plt.ylabel('PC2')\n",
        "plt.colorbar(m)\n",
        "fig.show()"
      ],
      "execution_count": null,
      "outputs": [
        {
          "output_type": "display_data",
          "data": {
            "image/png": "[encoded data removed]",
            "text/plain": [
              "<Figure size 900x600 with 2 Axes>"
            ]
          },
          "metadata": {
            "tags": [],
            "needs_background": "light"
          }
        }
      ]
    },
    {
      "cell_type": "markdown",
      "metadata": {
        "id": "qZ4bMLZeId8b"
      },
      "source": [
        "以上の主成分分析から、各月が特徴量によって区別できることが分かった。また、各月の特徴量のプロットカラーをグラデーションにしたことで、特に季節による特徴が明確に表れた。主に夏と冬はそれぞれ明確にまとまっており、春や秋はその中間あたりに分布していることが分かった。この結果は直感的な季節ごとの天候の特徴がグラフに反映されたといえる。"
      ]
    },
    {
      "cell_type": "code",
      "metadata": {
        "colab": {
          "base_uri": "https://localhost:8080/",
          "height": 265
        },
        "id": "4Kv09LrZ7Jbn",
        "outputId": "725e54b7-63a8-4cab-e39d-42c301ba0b65"
      },
      "source": [
        "import matplotlib.ticker as ticker\n",
        "#累積寄与率のグラフ\n",
        "plt.gca().get_xaxis().set_major_locator(ticker.MaxNLocator(integer=True))\n",
        "plt.plot([0] + list(np.cumsum(pca.explained_variance_ratio_)), \"-o\")\n",
        "plt.grid()\n",
        "plt.show()"
      ],
      "execution_count": null,
      "outputs": [
        {
          "output_type": "display_data",
          "data": {
            "image/png": "[encoded data removed]",
            "text/plain": [
              "<Figure size 432x288 with 1 Axes>"
            ]
          },
          "metadata": {
            "tags": [],
            "needs_background": "light"
          }
        }
      ]
    },
    {
      "cell_type": "markdown",
      "metadata": {
        "id": "v02pv2cVC_Ws"
      },
      "source": [
        "以上の累積寄与率のグラフから、今回の主成分分析ではデータ全体の分散の約70%が反映できたといえる。"
      ]
    }
  ]
}